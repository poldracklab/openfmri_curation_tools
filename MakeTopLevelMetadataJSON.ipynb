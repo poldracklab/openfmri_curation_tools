{
 "cells": [
  {
   "cell_type": "code",
   "execution_count": 15,
   "metadata": {
    "collapsed": true
   },
   "outputs": [],
   "source": [
    "import json\n",
    "import os, re\n",
    "from glob import glob\n",
    "from pprint import pprint"
   ]
  },
  {
   "cell_type": "code",
   "execution_count": 16,
   "metadata": {
    "collapsed": true
   },
   "outputs": [],
   "source": [
    "# Replace this with the location of the BIDS folder to be analyzed.\n",
    "os.chdir('/Users/wtriplett/Desktop/Completed/ds030_final')"
   ]
  },
  {
   "cell_type": "code",
   "execution_count": 48,
   "metadata": {
    "collapsed": false
   },
   "outputs": [],
   "source": [
    "def decompose_json_location (f):\n",
    "    \"\"\"Splits up a BIDS path into its components and returns a tuple\n",
    "    with the components along with the original path.\"\"\"\n",
    "    the_re = '^(?:.*)/(anat|fmap|func|dwi)/(sub-[^_]+)(?:_(ses-[^_]+))?(?:_(task-[^_]+))?(?:_(run-[^_]+))?(?:_(.+)).json$'\n",
    "    r = re.match(the_re, f)\n",
    "    return (r.group(1), \n",
    "            r.group(2),\n",
    "            r.group(3), \n",
    "            r.group(4) or r.group(6), \n",
    "            f)\n",
    "    \n",
    "def get_all_jsons ():\n",
    "    \"\"\"Looks for .json files in a BIDS folder, but not the beh or physio ones.\n",
    "    Only the imaging related ones.\"\"\"\n",
    "    jsons = []\n",
    "    subs = glob('sub-*')\n",
    "    for sub in subs:\n",
    "        walker = os.walk(sub)\n",
    "        for entry in walker:\n",
    "            save = [ os.path.join(entry[0], i) for i in entry[2] \n",
    "                    if (i.endswith('.json') and (i.find('beh') == -1 and i.find('physio') == -1)) ]\n",
    "            if len(save) != 0:\n",
    "                jsons = jsons + save\n",
    "        \n",
    "    return jsons\n"
   ]
  },
  {
   "cell_type": "code",
   "execution_count": 49,
   "metadata": {
    "collapsed": false
   },
   "outputs": [],
   "source": [
    "def _compare_equal (a, b, float_eps=1e-6):\n",
    "    \"\"\"Compares two things for equality.\n",
    "    I think it doesn't work with dictionaries that are nested inside the argument dictionaries, though.\n",
    "    It was desined to work with simple data structure of primitive types and maybe a list.\n",
    "    There may be a better way to do this in python, but eventually the issue\n",
    "    of floating point precision would come up, so maybe this method is OK.\"\"\"\n",
    "    if type(a) != type(b):\n",
    "        return False\n",
    "    if type(a) in [ bool, str, long, int, unicode ]: #type(a) == int or type(b) == str:\n",
    "        if a == b:\n",
    "            return True\n",
    "    elif type(a) == float:\n",
    "        if abs(a - b) < float_eps:\n",
    "            return True\n",
    "    elif type(a) == list:\n",
    "        if len(a) != len(b):\n",
    "            return False\n",
    "        if all(map(_compare_equal, a, b)):\n",
    "            return True\n",
    "\n",
    "    return False\n",
    "    \n",
    "def dict_intersect (ref, mov):\n",
    "    \"\"\"Compute the intersection of the sets of elements contained in two dictionaries.\"\"\"\n",
    "    intersection = {}\n",
    "    \n",
    "    # using ref.keys, but either works since intersection\n",
    "    for k in ref.keys():\n",
    "        \n",
    "        if k not in mov.keys():\n",
    "            continue\n",
    "            \n",
    "        if type(ref[k]) != type(mov[k]):\n",
    "            continue\n",
    "                \n",
    "        if _compare_equal(ref[k], mov[k]):\n",
    "            intersection[k] = ref[k]\n",
    "                \n",
    "    return intersection"
   ]
  },
  {
   "cell_type": "code",
   "execution_count": 51,
   "metadata": {
    "collapsed": false
   },
   "outputs": [],
   "source": [
    "# Gather up the json files in the current folder\n",
    "jsons = get_all_jsons()"
   ]
  },
  {
   "cell_type": "code",
   "execution_count": 52,
   "metadata": {
    "collapsed": false
   },
   "outputs": [],
   "source": [
    "# Extract the information from the path names\n",
    "jsons_tupled = map(decompose_json_location, jsons)"
   ]
  },
  {
   "cell_type": "code",
   "execution_count": 53,
   "metadata": {
    "collapsed": false,
    "scrolled": true
   },
   "outputs": [],
   "source": [
    "# Group them into sets based on their task/modality\n",
    "# The intersection will be computed over these groups.\n",
    "files_per_set = {}\n",
    "\n",
    "for j in jsons_tupled:\n",
    "    if j[3] in files_per_set.keys():\n",
    "        files_per_set[j[3]].append(j[4])\n",
    "    else:\n",
    "        files_per_set[j[3]] = [ j[4] ]"
   ]
  },
  {
   "cell_type": "code",
   "execution_count": 54,
   "metadata": {
    "collapsed": false
   },
   "outputs": [],
   "source": [
    "# Perform the intersection and write the computed intersection to\n",
    "# a top-level file with the suffix '_intersection'\n",
    "for key in files_per_set.keys():\n",
    "    with open(files_per_set[key][0], 'r') as f: \n",
    "        reference_data = json.load(f)\n",
    "    \n",
    "    for test_file in files_per_set[key]:\n",
    "        with open(test_file, 'r') as test_fp: test_data = json.load(test_fp)\n",
    "        reference_data = dict_intersect(reference_data, test_data)\n",
    "    \n",
    "    outfile = '%s_intersection.json' % key\n",
    "    with open(outfile, 'w') as out_fp:\n",
    "        json.dump(reference_data, out_fp, indent=3, sort_keys=True)"
   ]
  },
  {
   "cell_type": "code",
   "execution_count": null,
   "metadata": {
    "collapsed": true
   },
   "outputs": [],
   "source": []
  }
 ],
 "metadata": {
  "kernelspec": {
   "display_name": "Python 2",
   "language": "python",
   "name": "python2"
  },
  "language_info": {
   "codemirror_mode": {
    "name": "ipython",
    "version": 2
   },
   "file_extension": ".py",
   "mimetype": "text/x-python",
   "name": "python",
   "nbconvert_exporter": "python",
   "pygments_lexer": "ipython2",
   "version": "2.7.11"
  }
 },
 "nbformat": 4,
 "nbformat_minor": 0
}
